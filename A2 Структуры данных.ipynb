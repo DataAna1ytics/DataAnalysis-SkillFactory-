{
 "cells": [
  {
   "cell_type": "markdown",
   "metadata": {},
   "source": [
    "# Cтруктуры данных: списки, словари, вложенные конструкции"
   ]
  },
  {
   "cell_type": "markdown",
   "metadata": {},
   "source": [
    "## A2.2.4.1"
   ]
  },
  {
   "cell_type": "markdown",
   "metadata": {},
   "source": [
    "В ближайшее воскресенье в городе проводится выставка, в которой должны принять участие пять сотрудников фирмы. Поскольку большого желания участвовать в выставке в выходной день никто не изъявил, выбор решено было доверить компьютеру.\n",
    "\n",
    "Напишите код, который выберет из списка каждого второго сотрудника, начиная с Иванова.\n",
    "Индексы верхней и нижней границ задайте в явном виде. "
   ]
  },
  {
   "cell_type": "code",
   "execution_count": 1,
   "metadata": {},
   "outputs": [
    {
     "data": {
      "text/plain": [
       "['Иванов', 'Сидоров', 'Дятлов', 'Лисичкин', 'Капустин']"
      ]
     },
     "execution_count": 1,
     "metadata": {},
     "output_type": "execute_result"
    }
   ],
   "source": [
    "sparta = ['Иванов', 'Петров', 'Сидоров', 'Зайцев', 'Дятлов', \n",
    "          'Козлов', 'Лисичкин', 'Огурцов', 'Капустин', 'Арбузов']\n",
    "sparta[0:9:2]"
   ]
  },
  {
   "cell_type": "markdown",
   "metadata": {},
   "source": [
    "## A2.2.4.2"
   ]
  },
  {
   "cell_type": "markdown",
   "metadata": {},
   "source": [
    "Приближается профессиональный праздник, который в данном ТОО всегда отмечают с большим размахом. К празднику руководство решило поощрить трёх рядовых сотрудников. Чтобы никому не было обидно, выбор сотрудников решено было доверить компьютеру.\n",
    "\n",
    "Напишите код, с помощью которого можно извлечь из списка фамилии каждого третьего сотрудника, начиная с Петрова.\n",
    "Индексы верхней и нижней границ задайте в явном виде."
   ]
  },
  {
   "cell_type": "code",
   "execution_count": 2,
   "metadata": {},
   "outputs": [
    {
     "data": {
      "text/plain": [
       "['Петров', 'Дятлов', 'Огурцов']"
      ]
     },
     "execution_count": 2,
     "metadata": {},
     "output_type": "execute_result"
    }
   ],
   "source": [
    "sparta[1:9:3]"
   ]
  },
  {
   "cell_type": "markdown",
   "metadata": {},
   "source": [
    "## A2.2.4.3"
   ]
  },
  {
   "cell_type": "markdown",
   "metadata": {},
   "source": [
    "Для создания позитивной атмосферы перед профессиональным праздником было решено украсить офис воздушными шариками. К покупке шариков решили привлечь каждого пятого сотрудника фирмы. Для удобства решили начать с первой позиции в списке (с Иванова).\n",
    "\n",
    "Напишите код, который извлекает из списка фамилии каждого пятого сотрудника, начиная с Иванова.\n",
    "\n",
    "Индексы верхней и нижней границ задайте в явном виде."
   ]
  },
  {
   "cell_type": "code",
   "execution_count": 3,
   "metadata": {},
   "outputs": [
    {
     "data": {
      "text/plain": [
       "['Иванов', 'Козлов']"
      ]
     },
     "execution_count": 3,
     "metadata": {},
     "output_type": "execute_result"
    }
   ],
   "source": [
    "sparta[0:9:5]"
   ]
  },
  {
   "cell_type": "markdown",
   "metadata": {},
   "source": [
    "## A2.2.5.8"
   ]
  },
  {
   "cell_type": "markdown",
   "metadata": {},
   "source": [
    "Напишите программу, которая создаёт список, содержащий целые, кратные трём числа в интервале от 1 до 50. Найдите сумму элементов этого списка. Результат вычислений сохраните в переменной с именем result."
   ]
  },
  {
   "cell_type": "code",
   "execution_count": 4,
   "metadata": {},
   "outputs": [
    {
     "name": "stdout",
     "output_type": "stream",
     "text": [
      "408\n"
     ]
    }
   ],
   "source": [
    "my_list = []\n",
    "result = 0\n",
    "\n",
    "for i in range(1,51):\n",
    "    if i%3 == 0:\n",
    "        my_list.append(i)\n",
    "        result += i\n",
    "print(result)    "
   ]
  },
  {
   "cell_type": "markdown",
   "metadata": {},
   "source": [
    "## A2.2.5.9"
   ]
  },
  {
   "cell_type": "markdown",
   "metadata": {},
   "source": [
    "Напишите программу, которая создаёт список my_list, содержащий длины слов из списка raw_list (дан в начале кода), и находит сумму минимального и максимального элементов нового списка (my_list). Результат вычислений (сумма минимального и максимального элементов списка my_list) присвойте переменной result."
   ]
  },
  {
   "cell_type": "code",
   "execution_count": 5,
   "metadata": {},
   "outputs": [
    {
     "name": "stdout",
     "output_type": "stream",
     "text": [
      "15\n"
     ]
    }
   ],
   "source": [
    "raw_list = ['переменные', 'циклы', 'условия', 'списки', 'словари', 'файлы', 'функции']\n",
    "my_list = []\n",
    "\n",
    "for word in raw_list:\n",
    "    my_list.append(len(word))\n",
    "word_length_min = min(my_list)\n",
    "word_length_max = max(my_list)     \n",
    "result = word_length_min + word_length_max\n",
    "print(result) "
   ]
  },
  {
   "cell_type": "markdown",
   "metadata": {},
   "source": [
    "## A2.2.5.10"
   ]
  },
  {
   "cell_type": "markdown",
   "metadata": {},
   "source": [
    "\n",
    "\n",
    "Дан список raw_list (содержимое списка приведено в начале кода). Найдите минимальное (x_min) и максимальное (x_max) значения элементов данного списка.\n",
    "\n",
    "Создайте новый список my_list, состоящий из элементов списка raw_list, умноженных на x_min, если элемент является чётным числом и на x_max в случае, если элемент нечётный.\n",
    "\n",
    "Найдите максимальное значение списка my_list. Результат присвойте переменной result.\n"
   ]
  },
  {
   "cell_type": "code",
   "execution_count": 6,
   "metadata": {},
   "outputs": [
    {
     "name": "stdout",
     "output_type": "stream",
     "text": [
      "5041\n"
     ]
    }
   ],
   "source": [
    "raw_list = [2, 8, 10, 23, 64, 49, 11, 52, 71, 14]\n",
    "x_min = min(raw_list)\n",
    "x_max = max(raw_list)\n",
    "my_list = []\n",
    "\n",
    "for i in raw_list:\n",
    "    if i%2 == 0:\n",
    "        my_list.append(i*x_min)\n",
    "    if i%2 != 0: \n",
    "        my_list.append(i*x_max)\n",
    "result = max(my_list)\n",
    "print(result)"
   ]
  },
  {
   "cell_type": "markdown",
   "metadata": {},
   "source": [
    "## A2.2.6.9"
   ]
  },
  {
   "cell_type": "markdown",
   "metadata": {},
   "source": [
    "Перепишите привёденный ниже код, используя генератор списков. Полученный в результате работы генератора список должен иметь имя my_list."
   ]
  },
  {
   "cell_type": "code",
   "execution_count": 7,
   "metadata": {},
   "outputs": [
    {
     "name": "stdout",
     "output_type": "stream",
     "text": [
      "[2.6457513110645907, 3.7416573867739413, 4.58257569495584, 5.291502622129181, 5.916079783099616, 6.48074069840786, 7.0]\n"
     ]
    }
   ],
   "source": [
    "my_list = []\n",
    "for x in range(1, 50):\n",
    "    if x%7 == 0:\n",
    "        my_list.append(x**0.5)\n",
    "print(my_list)"
   ]
  },
  {
   "cell_type": "code",
   "execution_count": 8,
   "metadata": {},
   "outputs": [
    {
     "name": "stdout",
     "output_type": "stream",
     "text": [
      "[2.6457513110645907, 3.7416573867739413, 4.58257569495584, 5.291502622129181, 5.916079783099616, 6.48074069840786, 7.0]\n"
     ]
    }
   ],
   "source": [
    "my_list = [x**0.5 for x in range (1,50) if x%7 == 0]\n",
    "print(my_list)"
   ]
  },
  {
   "cell_type": "markdown",
   "metadata": {},
   "source": [
    "## A2.2.6.10"
   ]
  },
  {
   "cell_type": "markdown",
   "metadata": {},
   "source": [
    "Перепишите привёденный ниже код, используя генератор списков. Полученный в результате работы генератора список должен иметь имя my_list."
   ]
  },
  {
   "cell_type": "code",
   "execution_count": 9,
   "metadata": {},
   "outputs": [
    {
     "name": "stdout",
     "output_type": "stream",
     "text": [
      "[9, 10, 11, 12, 13, 14, 15, 16, 17, 18]\n"
     ]
    }
   ],
   "source": [
    "my_list = []\n",
    "for x in range(90, 100):\n",
    "    first_digit = x//10\n",
    "    last_digit = x%10\n",
    "    my_list.append(first_digit + last_digit)\n",
    "print(my_list)"
   ]
  },
  {
   "cell_type": "code",
   "execution_count": 10,
   "metadata": {},
   "outputs": [
    {
     "name": "stdout",
     "output_type": "stream",
     "text": [
      "[9, 10, 11, 12, 13, 14, 15, 16, 17, 18]\n"
     ]
    }
   ],
   "source": [
    "my_list = [x//10 + x%10 for x in range(90, 100)]\n",
    "print(my_list)"
   ]
  },
  {
   "cell_type": "markdown",
   "metadata": {},
   "source": [
    "## A2.3.6"
   ]
  },
  {
   "cell_type": "markdown",
   "metadata": {},
   "source": [
    "Дан словарь с результатами жеребьевки Чемпионата мира по футболу-2018 пяти стран по группам. }\n",
    "\n",
    "Напишите код, который по названию страны country присваивает переменной group название группы по результатам жеребьевки. Если страны нет в словаре draw_dict, то переменной group присваивается значение 'unknown'. Выполните код для значения country = 'Италия'. "
   ]
  },
  {
   "cell_type": "code",
   "execution_count": 11,
   "metadata": {},
   "outputs": [],
   "source": [
    "draw_dict = {\n",
    "    'Россия': 'A',\n",
    "    'Португалия': 'B',\n",
    "    'Франция': 'C',\n",
    "    'Дания': 'C',\n",
    "    'Египет': 'A'\n",
    "}\n",
    "\n",
    "country = 'Италия'\n",
    "if country in draw_dict:\n",
    "     group = draw_dict[country]\n",
    "else:\n",
    "    group = 'unknown'"
   ]
  },
  {
   "cell_type": "markdown",
   "metadata": {},
   "source": [
    "Решите предыдущую задачу, используя метод setdefault. Вместо проверки на наличие ключа вы можете сразу назначить значение по умолчанию 'unknown'. Проверьте работу кода для country = 'Италия'. Результат запишите в переменную group"
   ]
  },
  {
   "cell_type": "code",
   "execution_count": 12,
   "metadata": {},
   "outputs": [
    {
     "name": "stdout",
     "output_type": "stream",
     "text": [
      "unknown\n"
     ]
    }
   ],
   "source": [
    "draw_dict = {\n",
    "    'Россия': 'A',\n",
    "    'Португалия': 'B',\n",
    "    'Франция': 'C',\n",
    "    'Дания': 'C',\n",
    "    'Египет': 'A'\n",
    "}\n",
    "country ='Италия'\n",
    "if country not in draw_dict:\n",
    "   group= draw_dict.setdefault(country,'unknown')\n",
    "print(group)"
   ]
  },
  {
   "cell_type": "markdown",
   "metadata": {},
   "source": [
    "## A2.3.9"
   ]
  },
  {
   "cell_type": "markdown",
   "metadata": {},
   "source": [
    "Отфильтруйте словарь draw_dict, оставив в нем только страны группы A. Отфильтрованный результат запишите в новый словарь draw_new\n",
    "\n",
    "Для добавления в словарь нового элемента в коде нужно указать имя словаря, далее в квадратных скобках указать новый ключ (в виде строки или имени переменной), поставить знак \" = \" и после этого указать значение, которое необходимо установить для данного ключа."
   ]
  },
  {
   "cell_type": "code",
   "execution_count": 13,
   "metadata": {},
   "outputs": [
    {
     "name": "stdout",
     "output_type": "stream",
     "text": [
      "{'Россия': 'A', 'Египет': 'A'}\n"
     ]
    }
   ],
   "source": [
    "draw_dict = {\n",
    "    'Россия': 'A',\n",
    "    'Португалия': 'B',\n",
    "    'Франция': 'C',\n",
    "    'Дания': 'C',\n",
    "    'Египет': 'A'\n",
    "}\n",
    "\n",
    "draw_new={}\n",
    "for i in draw_dict:\n",
    "    if draw_dict[i] == 'A':\n",
    "        draw_new[i]=draw_dict[i]\n",
    "\n",
    "\n",
    "print(draw_new)"
   ]
  },
  {
   "cell_type": "markdown",
   "metadata": {},
   "source": [
    "## A2.3.10"
   ]
  },
  {
   "cell_type": "markdown",
   "metadata": {},
   "source": [
    "Посчитать количество сотрудников с позицией “разработчик”"
   ]
  },
  {
   "cell_type": "code",
   "execution_count": 14,
   "metadata": {},
   "outputs": [
    {
     "name": "stdout",
     "output_type": "stream",
     "text": [
      "2\n"
     ]
    }
   ],
   "source": [
    "employee_base = {'Мария Никитина': 'менеджер', \n",
    "                 'Егор Савичев': 'разработчик', \n",
    "                 'Александр Пахомов': 'дизайнер', \n",
    "                 'Алина Егорова': 'разработчик', \n",
    "                 'Руслан Башаров': 'верстальщик'}\n",
    "\n",
    "counter = 0\n",
    "\n",
    "for position in employee_base.values():\n",
    "    if position == 'разработчик':\n",
    "        counter +=1\n",
    "        \n",
    "print(counter)      "
   ]
  },
  {
   "cell_type": "markdown",
   "metadata": {},
   "source": [
    "## A2.3.11"
   ]
  },
  {
   "cell_type": "markdown",
   "metadata": {},
   "source": [
    "Отфильтруйте словарь draw_dict с помощью метода items, оставив в нем только страны группы A. Отфильтрованный результат запишите в новый словарь draw_new"
   ]
  },
  {
   "cell_type": "code",
   "execution_count": 15,
   "metadata": {},
   "outputs": [
    {
     "name": "stdout",
     "output_type": "stream",
     "text": [
      "Россия\n",
      "Египет\n"
     ]
    }
   ],
   "source": [
    "draw_dict = {\n",
    "    'Россия': 'A',\n",
    "    'Португалия': 'B',\n",
    "    'Франция': 'C',\n",
    "    'Дания': 'C',\n",
    "    'Египет': 'A'\n",
    "}\n",
    "draw_new = {}\n",
    "for country, group in draw_dict.items():\n",
    "    if draw_dict[country] == 'A':\n",
    "        draw_new[country] = draw_dict[country]\n",
    "        print(country)"
   ]
  },
  {
   "cell_type": "markdown",
   "metadata": {},
   "source": [
    "## A2.4.2 "
   ]
  },
  {
   "cell_type": "markdown",
   "metadata": {},
   "source": [
    "Отфильтруйте список товарных позиций csv_file, оставив только те позиции, у которых количество штук на складе больше 10. Результат запишите в переменную csv_file_filtered"
   ]
  },
  {
   "cell_type": "code",
   "execution_count": 16,
   "metadata": {},
   "outputs": [
    {
     "name": "stdout",
     "output_type": "stream",
     "text": [
      "[['100728', 'Скейтборд Jdbug RT03', 32], ['100732', 'Роллерсерф Razor RipStik Bright', 11], ['100803', 'Ботинки для сноуборда DC Tucknee', 20], ['100934', 'Пульсометр Beurer PM62', 17]]\n"
     ]
    }
   ],
   "source": [
    "csv_file = [\n",
    "    ['100412', 'Ботинки для горных лыж ATOMIC Hawx Prime 100', 9],\n",
    "    ['100728', 'Скейтборд Jdbug RT03', 32],\n",
    "    ['100732', 'Роллерсерф Razor RipStik Bright', 11],\n",
    "    ['100803', 'Ботинки для сноуборда DC Tucknee', 20],\n",
    "    ['100898', 'Шагомер Omron HJA-306', 2],\n",
    "    ['100934', 'Пульсометр Beurer PM62', 17],\n",
    "]\n",
    "csv_file_filtered = []\n",
    "for record in csv_file:\n",
    "    if record[2] > 10:\n",
    "        csv_file_filtered.append(record)\n",
    "print(csv_file_filtered)"
   ]
  },
  {
   "cell_type": "markdown",
   "metadata": {},
   "source": [
    "## A2.4.3"
   ]
  },
  {
   "cell_type": "markdown",
   "metadata": {},
   "source": [
    "Разработчики поменяли формат выгрузки из базы данных товарных позиций. Теперь это список словарей, каждый столбец в котором имеет имя. Напишите код, который оставляет только те товары, в названии которых есть слово \"Ботинки\". Результат запишите в переменную csv_dict_boots"
   ]
  },
  {
   "cell_type": "code",
   "execution_count": 17,
   "metadata": {},
   "outputs": [
    {
     "name": "stdout",
     "output_type": "stream",
     "text": [
      "[{'id': '100412', 'position': 'Ботинки для горных лыж ATOMIC Hawx Prime 100', 'count': 9}, {'id': '100803', 'position': 'Ботинки для сноуборда DC Tucknee', 'count': 20}]\n"
     ]
    }
   ],
   "source": [
    "csv_dict = [\n",
    "    {'id': '100412', 'position': 'Ботинки для горных лыж ATOMIC Hawx Prime 100', 'count': 9},\n",
    "    {'id': '100728', 'position': 'Скейтборд Jdbug RT03', 'count': 32},\n",
    "    {'id': '100732', 'position': 'Роллерсерф Razor RipStik Bright', 'count': 11},\n",
    "    {'id': '100803', 'position': 'Ботинки для сноуборда DC Tucknee', 'count': 20},\n",
    "    {'id': '100898', 'position': 'Шагомер Omron HJA-306', 'count': 2},\n",
    "    {'id': '100934', 'position': 'Пульсометр Beurer PM62', 'count': 17},\n",
    "]\n",
    "\n",
    "csv_dict_boots = []\n",
    "for word in csv_dict:\n",
    "    if 'Ботинки' in word['position']:\n",
    "        csv_dict_boots.append(word)\n",
    "print(csv_dict_boots)"
   ]
  },
  {
   "cell_type": "markdown",
   "metadata": {},
   "source": [
    "## A2.4.4.5"
   ]
  },
  {
   "cell_type": "markdown",
   "metadata": {},
   "source": [
    "Согласно сайту www.bodycounters.com в четырех частях фильма “Пираты Карибского моря” было довольно много погибших. Напишите скрипт, который считает общее число погибших живых существ во всех сериях. Вот их статистика:"
   ]
  },
  {
   "cell_type": "code",
   "execution_count": 18,
   "metadata": {},
   "outputs": [],
   "source": [
    "bodycount = {\n",
    "\t'Проклятие Черной жемчужины': {\n",
    "\t\t'человек': 17\n",
    "\t}, \n",
    "\n",
    "\t'Сундук мертвеца': {\n",
    "\t\t'человек': 56,\n",
    "\t\t'раков-отшельников': 1\n",
    "\t},\n",
    "\n",
    "\t'На краю света': {\n",
    "\t\t'человек': 88\n",
    "\t},\n",
    "\n",
    "\t'На странных берегах': {\n",
    "\t\t'человек': 56,\n",
    "\t\t'русалок': 2,\n",
    "\t\t'ядовитых жаб': 3,\n",
    "\t\t'пиратов зомби': 2\n",
    "\t}\n",
    "}"
   ]
  },
  {
   "cell_type": "code",
   "execution_count": 19,
   "metadata": {},
   "outputs": [
    {
     "name": "stdout",
     "output_type": "stream",
     "text": [
      "225\n"
     ]
    }
   ],
   "source": [
    "dead = 0\n",
    "for value in bodycount.values():\n",
    "    for number in value.values():\n",
    "        dead +=number\n",
    "print(dead)        "
   ]
  },
  {
   "cell_type": "markdown",
   "metadata": {},
   "source": [
    "## А2.5.3"
   ]
  },
  {
   "cell_type": "code",
   "execution_count": 20,
   "metadata": {},
   "outputs": [
    {
     "name": "stdout",
     "output_type": "stream",
     "text": [
      "{'events_data': [{'id': 47946124, 'client_id': 62526, 'user_id': 110777, 'category': 'page', 'action': 'enter', 'options': {'name': 'landing'}}, {'id': 47947076, 'client_id': 61944, 'user_id': 108565, 'category': 'page', 'action': 'enter', 'options': {'name': 'landing'}}, {'id': 47962056, 'client_id': 27115, 'user_id': 49440, 'category': 'page', 'action': 'enter', 'options': {'name': 'page'}}, {'id': 47962120, 'client_id': 27115, 'user_id': 49440, 'category': 'datepicker', 'action': 'apply', 'options': {'endDate': '2019-03-31 23:59:59', 'startDate': '2019-03-25 00:00:00'}}, {'id': 47962218, 'client_id': 27115, 'user_id': 49440, 'category': 'table', 'action': 'sort', 'options': {'dir': 'ASC', 'name': 'deal_date'}}, {'id': 47962238, 'client_id': 27115, 'user_id': 49440, 'category': 'table', 'action': 'sort', 'options': {'dir': 'DESC', 'name': 'deal_date'}}, {'id': 47962532, 'client_id': 27115, 'user_id': 49440, 'category': 'table', 'action': 'sort', 'options': {'dir': 'ASC', 'name': 'deal_date'}}, {'id': 47962534, 'client_id': 27115, 'user_id': 49440, 'category': 'table', 'action': 'sort', 'options': {'dir': 'DESC', 'name': 'deal_date'}}, {'id': 47962696, 'client_id': 27115, 'user_id': 49440, 'category': 'datepicker', 'action': 'apply', 'options': {'endDate': '2019-03-10 23:59:59', 'startDate': '2019-03-04 00:00:00'}}, {'id': 47962748, 'client_id': 27115, 'user_id': 49440, 'category': 'datepicker', 'action': 'apply', 'options': {'endDate': '2019-02-24 23:59:59', 'startDate': '2019-02-18 00:00:00'}}, {'id': 47962830, 'client_id': 27115, 'user_id': 49440, 'category': 'datepicker', 'action': 'apply', 'options': {'endDate': '2019-03-31 23:59:59', 'startDate': '2019-03-25 00:00:00'}}, {'id': 47962860, 'client_id': 27115, 'user_id': 49440, 'category': 'datepicker', 'action': 'apply', 'options': {'endDate': '2019-03-31 23:59:59', 'startDate': '2019-03-28 00:00:00'}}, {'id': 47962952, 'client_id': 27115, 'user_id': 49440, 'category': 'datepicker', 'action': 'apply', 'options': {'endDate': '2019-03-31 23:59:59', 'startDate': '2019-03-29 00:00:00'}}, {'id': 47964366, 'client_id': 62017, 'user_id': 108835, 'category': 'page', 'action': 'enter', 'options': {'name': 'landing'}}, {'id': 47989384, 'client_id': 63120, 'user_id': 113069, 'category': 'page', 'action': 'enter', 'options': {'name': 'landing'}}, {'id': 48010418, 'client_id': 59883, 'user_id': 108493, 'category': 'page', 'action': 'enter', 'options': {'name': 'landing'}}, {'id': 48012170, 'client_id': 2913, 'user_id': 37412, 'category': 'page', 'action': 'enter', 'options': {'name': 'landing'}}, {'id': 48014430, 'client_id': 62940, 'user_id': 112351, 'category': 'page', 'action': 'enter', 'options': {'name': 'landing'}}, {'id': 48022684, 'client_id': 63149, 'user_id': 113143, 'category': 'page', 'action': 'enter', 'options': {'name': 'landing'}}, {'id': 48026886, 'client_id': 45391, 'user_id': 76047, 'category': 'page', 'action': 'enter', 'options': {'name': 'landing'}}, {'id': 48034878, 'client_id': 18923, 'user_id': 36488, 'category': 'page', 'action': 'enter', 'options': {'name': 'landing'}}, {'id': 48042052, 'client_id': 63019, 'user_id': 113169, 'category': 'page', 'action': 'enter', 'options': {'name': 'landing'}}, {'id': 48043326, 'client_id': 18923, 'user_id': 36488, 'category': 'page', 'action': 'enter', 'options': {'name': 'landing'}}, {'id': 48043640, 'client_id': 18923, 'user_id': 36488, 'category': 'page', 'action': 'enter', 'options': {'name': 'landing'}}, {'id': 48051248, 'client_id': 15759, 'user_id': 92681, 'category': 'page', 'action': 'enter', 'options': {'name': 'landing'}}, {'id': 48061250, 'client_id': 62007, 'user_id': 92681, 'category': 'page', 'action': 'enter', 'options': {'name': 'page'}}, {'id': 48066902, 'client_id': 62941, 'user_id': 112357, 'category': 'page', 'action': 'enter', 'options': {'name': 'landing'}}, {'id': 48081876, 'client_id': 51009, 'user_id': 87778, 'category': 'page', 'action': 'enter', 'options': {'name': 'landing'}}, {'id': 48106514, 'client_id': 62236, 'user_id': 109579, 'category': 'page', 'action': 'enter', 'options': {'name': 'landing'}}, {'id': 48110768, 'client_id': 44682, 'user_id': 74909, 'category': 'page', 'action': 'enter', 'options': {'name': 'landing'}}, {'id': 48114652, 'client_id': 39709, 'user_id': 67955, 'category': 'page', 'action': 'enter', 'options': {'name': 'landing'}}, {'id': 48118216, 'client_id': 60459, 'user_id': 32532, 'category': 'page', 'action': 'enter', 'options': {'name': 'page'}}, {'id': 48118370, 'client_id': 62144, 'user_id': 109283, 'category': 'page', 'action': 'enter', 'options': {'name': 'landing'}}, {'id': 48118516, 'client_id': 60459, 'user_id': 32532, 'category': 'report', 'action': 'change_mode', 'options': {'mode': 'deals'}}, {'id': 48118564, 'client_id': 60459, 'user_id': 32532, 'category': 'report', 'action': 'change_mode', 'options': {'mode': 'summary'}}, {'id': 48118590, 'client_id': 60459, 'user_id': 32532, 'category': 'report', 'action': 'change_mode', 'options': {'mode': 'deals'}}, {'id': 48118920, 'client_id': 60459, 'user_id': 32532, 'category': 'report', 'action': 'change_mode', 'options': {'mode': 'summary'}}, {'id': 48120374, 'client_id': 60459, 'user_id': 32532, 'category': 'page', 'action': 'enter', 'options': {'name': 'page'}}, {'id': 48120386, 'client_id': 60459, 'user_id': 32532, 'category': 'report', 'action': 'change_mode', 'options': {'mode': 'deals'}}, {'id': 48120602, 'client_id': 52492, 'user_id': 91178, 'category': 'page', 'action': 'enter', 'options': {'name': 'page'}}, {'id': 48120604, 'client_id': 52492, 'user_id': 105477, 'category': 'page', 'action': 'enter', 'options': {'name': 'page'}}, {'id': 48120770, 'client_id': 60459, 'user_id': 32532, 'category': 'page', 'action': 'enter', 'options': {'name': 'page'}}, {'id': 48120876, 'client_id': 60459, 'user_id': 32532, 'category': 'table', 'action': 'sort', 'options': {'dir': 'ASC', 'name': 'visitor_id'}}, {'id': 48120896, 'client_id': 60459, 'user_id': 32532, 'category': 'table', 'action': 'sort', 'options': {'dir': 'DESC', 'name': 'visitor_id'}}, {'id': 48121006, 'client_id': 60459, 'user_id': 32532, 'category': 'table', 'action': 'sort', 'options': {'dir': 'ASC', 'name': 'visitor_id'}}, {'id': 48121008, 'client_id': 60459, 'user_id': 32532, 'category': 'table', 'action': 'sort', 'options': {'dir': 'DESC', 'name': 'visitor_id'}}, {'id': 48125372, 'client_id': 52492, 'user_id': 91178, 'category': 'page', 'action': 'enter', 'options': {'name': 'page'}}, {'id': 48130434, 'client_id': 18923, 'user_id': 36488, 'category': 'page', 'action': 'enter', 'options': {'name': 'landing'}}, {'id': 48135712, 'client_id': 25301, 'user_id': 54229, 'category': 'page', 'action': 'enter', 'options': {'name': 'landing'}}, {'id': 48136376, 'client_id': 18923, 'user_id': 36488, 'category': 'page', 'action': 'enter', 'options': {'name': 'landing'}}, {'id': 48136890, 'client_id': 33645, 'user_id': 61378, 'category': 'page', 'action': 'enter', 'options': {'name': 'landing'}}, {'id': 48145332, 'client_id': 62089, 'user_id': 109095, 'category': 'page', 'action': 'enter', 'options': {'name': 'landing'}}, {'id': 48155244, 'client_id': 26705, 'user_id': 48880, 'category': 'page', 'action': 'enter', 'options': {'name': 'landing'}}, {'id': 48160942, 'client_id': 1103, 'user_id': 109501, 'category': 'page', 'action': 'enter', 'options': {'name': 'page'}}, {'id': 48166190, 'client_id': 62439, 'user_id': 110397, 'category': 'page', 'action': 'enter', 'options': {'name': 'landing'}}, {'id': 48167428, 'client_id': 44196, 'user_id': 74136, 'category': 'page', 'action': 'enter', 'options': {'name': 'landing'}}, {'id': 48171114, 'client_id': 62602, 'user_id': 111069, 'category': 'page', 'action': 'enter', 'options': {'name': 'page'}}, {'id': 48173426, 'client_id': 62602, 'user_id': 111069, 'category': 'page', 'action': 'enter', 'options': {'name': 'page'}}, {'id': 48173444, 'client_id': 62602, 'user_id': 111069, 'category': 'report', 'action': 'link_click', 'options': {'url': 'javascript:void(0);', 'name': 'deal_count', 'value': '1'}}, {'id': 48173446, 'client_id': 62602, 'user_id': 111069, 'category': 'page', 'action': 'enter', 'options': {'name': 'page'}}, {'id': 48173640, 'client_id': 62602, 'user_id': 111069, 'category': 'page', 'action': 'enter', 'options': {'name': 'page'}}, {'id': 48173686, 'client_id': 62602, 'user_id': 111069, 'category': 'page', 'action': 'enter', 'options': {'name': 'page'}}, {'id': 48173698, 'client_id': 62602, 'user_id': 111069, 'category': 'page', 'action': 'enter', 'options': {'name': 'page'}}, {'id': 48174302, 'client_id': 62602, 'user_id': 111069, 'category': 'page', 'action': 'enter', 'options': {'name': 'page'}}, {'id': 48174312, 'client_id': 62602, 'user_id': 111069, 'category': 'report', 'action': 'link_click', 'options': {'url': 'javascript:void(0);', 'name': 'deal_count', 'value': '1'}}, {'id': 48174314, 'client_id': 62602, 'user_id': 111069, 'category': 'page', 'action': 'enter', 'options': {'name': 'page'}}, {'id': 48174338, 'client_id': 62602, 'user_id': 111069, 'category': 'page', 'action': 'enter', 'options': {'name': 'page'}}, {'id': 48179988, 'client_id': 50149, 'user_id': 86073, 'category': 'page', 'action': 'enter', 'options': {'name': 'landing'}}, {'id': 57301281, 'client_id': 57009, 'user_id': 107244, 'category': 'page', 'action': 'enter', 'options': {'name': 'landing'}}, {'id': 57326589, 'client_id': 57207, 'user_id': 107968, 'category': 'page', 'action': 'enter', 'options': {'name': 'landing'}}, {'id': 57328781, 'client_id': 32792, 'user_id': 57997, 'category': 'page', 'action': 'enter', 'options': {'name': 'landing'}}, {'id': 57335607, 'client_id': 27323, 'user_id': 92681, 'category': 'page', 'action': 'enter', 'options': {'name': 'landing'}}, {'id': 57355249, 'client_id': 24500, 'user_id': 45371, 'category': 'page', 'action': 'enter', 'options': {'name': 'landing'}}, {'id': 57357969, 'client_id': 24500, 'user_id': 45371, 'category': 'page', 'action': 'enter', 'options': {'name': 'page'}}, {'id': 57364085, 'client_id': 58330, 'user_id': 122756, 'category': 'page', 'action': 'enter', 'options': {'name': 'landing'}}, {'id': 57368897, 'client_id': 61245, 'user_id': 122796, 'category': 'page', 'action': 'enter', 'options': {'name': 'landing'}}, {'id': 57380235, 'client_id': 19799, 'user_id': 108493, 'category': 'page', 'action': 'enter', 'options': {'name': 'landing'}}, {'id': 57397813, 'client_id': 56544, 'user_id': 105404, 'category': 'page', 'action': 'enter', 'options': {'name': 'page'}}, {'id': 57397881, 'client_id': 56544, 'user_id': 105404, 'category': 'datepicker', 'action': 'apply', 'options': {'endDate': '2019-03-31 23:59:59', 'startDate': '2019-03-31 00:00:00'}}, {'id': 57397923, 'client_id': 56544, 'user_id': 105404, 'category': 'datepicker', 'action': 'apply', 'options': {'endDate': '2019-03-30 23:59:59', 'startDate': '2019-03-30 00:00:00'}}, {'id': 57397987, 'client_id': 56544, 'user_id': 105404, 'category': 'datepicker', 'action': 'apply', 'options': {'endDate': '2019-03-29 23:59:59', 'startDate': '2019-03-29 00:00:00'}}, {'id': 57398079, 'client_id': 56544, 'user_id': 105404, 'category': 'datepicker', 'action': 'apply', 'options': {'endDate': '2019-03-28 23:59:59', 'startDate': '2019-03-28 00:00:00'}}, {'id': 57398119, 'client_id': 56544, 'user_id': 105404, 'category': 'datepicker', 'action': 'apply', 'options': {'endDate': '2019-03-27 23:59:59', 'startDate': '2019-03-27 00:00:00'}}, {'id': 57398165, 'client_id': 56544, 'user_id': 105404, 'category': 'datepicker', 'action': 'apply', 'options': {'endDate': '2019-03-26 23:59:59', 'startDate': '2019-03-26 00:00:00'}}, {'id': 57398203, 'client_id': 56544, 'user_id': 105404, 'category': 'datepicker', 'action': 'apply', 'options': {'endDate': '2019-03-25 23:59:59', 'startDate': '2019-03-25 00:00:00'}}, {'id': 57414209, 'client_id': 23207, 'user_id': 43300, 'category': 'page', 'action': 'enter', 'options': {'name': 'landing'}}, {'id': 57414633, 'client_id': 23207, 'user_id': 43300, 'category': 'page', 'action': 'enter', 'options': {'name': 'landing'}}, {'id': 57414663, 'client_id': 23207, 'user_id': 85282, 'category': 'page', 'action': 'enter', 'options': {'name': 'landing'}}, {'id': 57414851, 'client_id': 23207, 'user_id': 43300, 'category': 'page', 'action': 'enter', 'options': {'name': 'landing'}}, {'id': 57420219, 'client_id': 48128, 'user_id': 121686, 'category': 'page', 'action': 'enter', 'options': {'name': 'landing'}}, {'id': 57424709, 'client_id': 58113, 'user_id': 120952, 'category': 'page', 'action': 'enter', 'options': {'name': 'page'}}, {'id': 57424757, 'client_id': 58113, 'user_id': 120952, 'category': 'report', 'action': 'change_mode', 'options': {'mode': 'deals'}}, {'id': 57425399, 'client_id': 58113, 'user_id': 120952, 'category': 'table', 'action': 'sort', 'options': {'dir': 'ASC', 'name': 'ac'}}, {'id': 57425421, 'client_id': 58113, 'user_id': 120952, 'category': 'table', 'action': 'sort', 'options': {'dir': 'DESC', 'name': 'ac'}}, {'id': 57426007, 'client_id': 58113, 'user_id': 120952, 'category': 'datepicker', 'action': 'apply', 'options': {'endDate': '2019-03-24 23:59:59', 'startDate': '2019-03-18 00:00:00'}}, {'id': 57426303, 'client_id': 58113, 'user_id': 120952, 'category': 'datepicker', 'action': 'apply', 'options': {'endDate': '2019-03-17 23:59:59', 'startDate': '2019-03-11 00:00:00'}}, {'id': 57431787, 'client_id': 58113, 'user_id': 120952, 'category': 'page', 'action': 'enter', 'options': {'name': 'page'}}, {'id': 57444593, 'client_id': 57613, 'user_id': 110958, 'category': 'page', 'action': 'enter', 'options': {'name': 'landing'}}, {'id': 57453741, 'client_id': 61244, 'user_id': 120170, 'category': 'page', 'action': 'enter', 'options': {'name': 'landing'}}, {'id': 57467371, 'client_id': 53666, 'user_id': 122224, 'category': 'page', 'action': 'enter', 'options': {'name': 'landing'}}, {'id': 57473917, 'client_id': 53018, 'user_id': 92402, 'category': 'page', 'action': 'enter', 'options': {'name': 'landing'}}, {'id': 57475785, 'client_id': 53666, 'user_id': 122224, 'category': 'page', 'action': 'enter', 'options': {'name': 'landing'}}, {'id': 57492477, 'client_id': 41737, 'user_id': 122874, 'category': 'page', 'action': 'enter', 'options': {'name': 'landing'}}, {'id': 57493427, 'client_id': 61078, 'user_id': 119662, 'category': 'page', 'action': 'enter', 'options': {'name': 'landing'}}, {'id': 57515935, 'client_id': 20820, 'user_id': 116898, 'category': 'page', 'action': 'enter', 'options': {'name': 'landing'}}, {'id': 57517657, 'client_id': 41737, 'user_id': 122874, 'category': 'page', 'action': 'enter', 'options': {'name': 'landing'}}, {'id': 57540495, 'client_id': 49700, 'user_id': 84946, 'category': 'page', 'action': 'enter', 'options': {'name': 'landing'}}]}\n"
     ]
    }
   ],
   "source": [
    "import json\n",
    "with open(r'C:\\Users\\kozhevnikovams\\Downloads\\json\\data.json','rb') as infile:\n",
    "    data = json.load(infile)\n",
    "print(data)    "
   ]
  },
  {
   "cell_type": "markdown",
   "metadata": {},
   "source": [
    "Тип данных"
   ]
  },
  {
   "cell_type": "code",
   "execution_count": 21,
   "metadata": {},
   "outputs": [
    {
     "data": {
      "text/plain": [
       "dict"
      ]
     },
     "execution_count": 21,
     "metadata": {},
     "output_type": "execute_result"
    }
   ],
   "source": [
    "type(data)"
   ]
  },
  {
   "cell_type": "markdown",
   "metadata": {},
   "source": [
    "Ключи"
   ]
  },
  {
   "cell_type": "code",
   "execution_count": 22,
   "metadata": {},
   "outputs": [
    {
     "data": {
      "text/plain": [
       "dict_keys(['events_data'])"
      ]
     },
     "execution_count": 22,
     "metadata": {},
     "output_type": "execute_result"
    }
   ],
   "source": [
    "data.keys()"
   ]
  },
  {
   "cell_type": "markdown",
   "metadata": {},
   "source": [
    "Значения, доступные по ключу"
   ]
  },
  {
   "cell_type": "code",
   "execution_count": 23,
   "metadata": {},
   "outputs": [
    {
     "data": {
      "text/plain": [
       "[{'id': 47946124,\n",
       "  'client_id': 62526,\n",
       "  'user_id': 110777,\n",
       "  'category': 'page',\n",
       "  'action': 'enter',\n",
       "  'options': {'name': 'landing'}},\n",
       " {'id': 47947076,\n",
       "  'client_id': 61944,\n",
       "  'user_id': 108565,\n",
       "  'category': 'page',\n",
       "  'action': 'enter',\n",
       "  'options': {'name': 'landing'}},\n",
       " {'id': 47962056,\n",
       "  'client_id': 27115,\n",
       "  'user_id': 49440,\n",
       "  'category': 'page',\n",
       "  'action': 'enter',\n",
       "  'options': {'name': 'page'}},\n",
       " {'id': 47962120,\n",
       "  'client_id': 27115,\n",
       "  'user_id': 49440,\n",
       "  'category': 'datepicker',\n",
       "  'action': 'apply',\n",
       "  'options': {'endDate': '2019-03-31 23:59:59',\n",
       "   'startDate': '2019-03-25 00:00:00'}},\n",
       " {'id': 47962218,\n",
       "  'client_id': 27115,\n",
       "  'user_id': 49440,\n",
       "  'category': 'table',\n",
       "  'action': 'sort',\n",
       "  'options': {'dir': 'ASC', 'name': 'deal_date'}},\n",
       " {'id': 47962238,\n",
       "  'client_id': 27115,\n",
       "  'user_id': 49440,\n",
       "  'category': 'table',\n",
       "  'action': 'sort',\n",
       "  'options': {'dir': 'DESC', 'name': 'deal_date'}},\n",
       " {'id': 47962532,\n",
       "  'client_id': 27115,\n",
       "  'user_id': 49440,\n",
       "  'category': 'table',\n",
       "  'action': 'sort',\n",
       "  'options': {'dir': 'ASC', 'name': 'deal_date'}},\n",
       " {'id': 47962534,\n",
       "  'client_id': 27115,\n",
       "  'user_id': 49440,\n",
       "  'category': 'table',\n",
       "  'action': 'sort',\n",
       "  'options': {'dir': 'DESC', 'name': 'deal_date'}},\n",
       " {'id': 47962696,\n",
       "  'client_id': 27115,\n",
       "  'user_id': 49440,\n",
       "  'category': 'datepicker',\n",
       "  'action': 'apply',\n",
       "  'options': {'endDate': '2019-03-10 23:59:59',\n",
       "   'startDate': '2019-03-04 00:00:00'}},\n",
       " {'id': 47962748,\n",
       "  'client_id': 27115,\n",
       "  'user_id': 49440,\n",
       "  'category': 'datepicker',\n",
       "  'action': 'apply',\n",
       "  'options': {'endDate': '2019-02-24 23:59:59',\n",
       "   'startDate': '2019-02-18 00:00:00'}},\n",
       " {'id': 47962830,\n",
       "  'client_id': 27115,\n",
       "  'user_id': 49440,\n",
       "  'category': 'datepicker',\n",
       "  'action': 'apply',\n",
       "  'options': {'endDate': '2019-03-31 23:59:59',\n",
       "   'startDate': '2019-03-25 00:00:00'}},\n",
       " {'id': 47962860,\n",
       "  'client_id': 27115,\n",
       "  'user_id': 49440,\n",
       "  'category': 'datepicker',\n",
       "  'action': 'apply',\n",
       "  'options': {'endDate': '2019-03-31 23:59:59',\n",
       "   'startDate': '2019-03-28 00:00:00'}},\n",
       " {'id': 47962952,\n",
       "  'client_id': 27115,\n",
       "  'user_id': 49440,\n",
       "  'category': 'datepicker',\n",
       "  'action': 'apply',\n",
       "  'options': {'endDate': '2019-03-31 23:59:59',\n",
       "   'startDate': '2019-03-29 00:00:00'}},\n",
       " {'id': 47964366,\n",
       "  'client_id': 62017,\n",
       "  'user_id': 108835,\n",
       "  'category': 'page',\n",
       "  'action': 'enter',\n",
       "  'options': {'name': 'landing'}},\n",
       " {'id': 47989384,\n",
       "  'client_id': 63120,\n",
       "  'user_id': 113069,\n",
       "  'category': 'page',\n",
       "  'action': 'enter',\n",
       "  'options': {'name': 'landing'}},\n",
       " {'id': 48010418,\n",
       "  'client_id': 59883,\n",
       "  'user_id': 108493,\n",
       "  'category': 'page',\n",
       "  'action': 'enter',\n",
       "  'options': {'name': 'landing'}},\n",
       " {'id': 48012170,\n",
       "  'client_id': 2913,\n",
       "  'user_id': 37412,\n",
       "  'category': 'page',\n",
       "  'action': 'enter',\n",
       "  'options': {'name': 'landing'}},\n",
       " {'id': 48014430,\n",
       "  'client_id': 62940,\n",
       "  'user_id': 112351,\n",
       "  'category': 'page',\n",
       "  'action': 'enter',\n",
       "  'options': {'name': 'landing'}},\n",
       " {'id': 48022684,\n",
       "  'client_id': 63149,\n",
       "  'user_id': 113143,\n",
       "  'category': 'page',\n",
       "  'action': 'enter',\n",
       "  'options': {'name': 'landing'}},\n",
       " {'id': 48026886,\n",
       "  'client_id': 45391,\n",
       "  'user_id': 76047,\n",
       "  'category': 'page',\n",
       "  'action': 'enter',\n",
       "  'options': {'name': 'landing'}},\n",
       " {'id': 48034878,\n",
       "  'client_id': 18923,\n",
       "  'user_id': 36488,\n",
       "  'category': 'page',\n",
       "  'action': 'enter',\n",
       "  'options': {'name': 'landing'}},\n",
       " {'id': 48042052,\n",
       "  'client_id': 63019,\n",
       "  'user_id': 113169,\n",
       "  'category': 'page',\n",
       "  'action': 'enter',\n",
       "  'options': {'name': 'landing'}},\n",
       " {'id': 48043326,\n",
       "  'client_id': 18923,\n",
       "  'user_id': 36488,\n",
       "  'category': 'page',\n",
       "  'action': 'enter',\n",
       "  'options': {'name': 'landing'}},\n",
       " {'id': 48043640,\n",
       "  'client_id': 18923,\n",
       "  'user_id': 36488,\n",
       "  'category': 'page',\n",
       "  'action': 'enter',\n",
       "  'options': {'name': 'landing'}},\n",
       " {'id': 48051248,\n",
       "  'client_id': 15759,\n",
       "  'user_id': 92681,\n",
       "  'category': 'page',\n",
       "  'action': 'enter',\n",
       "  'options': {'name': 'landing'}},\n",
       " {'id': 48061250,\n",
       "  'client_id': 62007,\n",
       "  'user_id': 92681,\n",
       "  'category': 'page',\n",
       "  'action': 'enter',\n",
       "  'options': {'name': 'page'}},\n",
       " {'id': 48066902,\n",
       "  'client_id': 62941,\n",
       "  'user_id': 112357,\n",
       "  'category': 'page',\n",
       "  'action': 'enter',\n",
       "  'options': {'name': 'landing'}},\n",
       " {'id': 48081876,\n",
       "  'client_id': 51009,\n",
       "  'user_id': 87778,\n",
       "  'category': 'page',\n",
       "  'action': 'enter',\n",
       "  'options': {'name': 'landing'}},\n",
       " {'id': 48106514,\n",
       "  'client_id': 62236,\n",
       "  'user_id': 109579,\n",
       "  'category': 'page',\n",
       "  'action': 'enter',\n",
       "  'options': {'name': 'landing'}},\n",
       " {'id': 48110768,\n",
       "  'client_id': 44682,\n",
       "  'user_id': 74909,\n",
       "  'category': 'page',\n",
       "  'action': 'enter',\n",
       "  'options': {'name': 'landing'}},\n",
       " {'id': 48114652,\n",
       "  'client_id': 39709,\n",
       "  'user_id': 67955,\n",
       "  'category': 'page',\n",
       "  'action': 'enter',\n",
       "  'options': {'name': 'landing'}},\n",
       " {'id': 48118216,\n",
       "  'client_id': 60459,\n",
       "  'user_id': 32532,\n",
       "  'category': 'page',\n",
       "  'action': 'enter',\n",
       "  'options': {'name': 'page'}},\n",
       " {'id': 48118370,\n",
       "  'client_id': 62144,\n",
       "  'user_id': 109283,\n",
       "  'category': 'page',\n",
       "  'action': 'enter',\n",
       "  'options': {'name': 'landing'}},\n",
       " {'id': 48118516,\n",
       "  'client_id': 60459,\n",
       "  'user_id': 32532,\n",
       "  'category': 'report',\n",
       "  'action': 'change_mode',\n",
       "  'options': {'mode': 'deals'}},\n",
       " {'id': 48118564,\n",
       "  'client_id': 60459,\n",
       "  'user_id': 32532,\n",
       "  'category': 'report',\n",
       "  'action': 'change_mode',\n",
       "  'options': {'mode': 'summary'}},\n",
       " {'id': 48118590,\n",
       "  'client_id': 60459,\n",
       "  'user_id': 32532,\n",
       "  'category': 'report',\n",
       "  'action': 'change_mode',\n",
       "  'options': {'mode': 'deals'}},\n",
       " {'id': 48118920,\n",
       "  'client_id': 60459,\n",
       "  'user_id': 32532,\n",
       "  'category': 'report',\n",
       "  'action': 'change_mode',\n",
       "  'options': {'mode': 'summary'}},\n",
       " {'id': 48120374,\n",
       "  'client_id': 60459,\n",
       "  'user_id': 32532,\n",
       "  'category': 'page',\n",
       "  'action': 'enter',\n",
       "  'options': {'name': 'page'}},\n",
       " {'id': 48120386,\n",
       "  'client_id': 60459,\n",
       "  'user_id': 32532,\n",
       "  'category': 'report',\n",
       "  'action': 'change_mode',\n",
       "  'options': {'mode': 'deals'}},\n",
       " {'id': 48120602,\n",
       "  'client_id': 52492,\n",
       "  'user_id': 91178,\n",
       "  'category': 'page',\n",
       "  'action': 'enter',\n",
       "  'options': {'name': 'page'}},\n",
       " {'id': 48120604,\n",
       "  'client_id': 52492,\n",
       "  'user_id': 105477,\n",
       "  'category': 'page',\n",
       "  'action': 'enter',\n",
       "  'options': {'name': 'page'}},\n",
       " {'id': 48120770,\n",
       "  'client_id': 60459,\n",
       "  'user_id': 32532,\n",
       "  'category': 'page',\n",
       "  'action': 'enter',\n",
       "  'options': {'name': 'page'}},\n",
       " {'id': 48120876,\n",
       "  'client_id': 60459,\n",
       "  'user_id': 32532,\n",
       "  'category': 'table',\n",
       "  'action': 'sort',\n",
       "  'options': {'dir': 'ASC', 'name': 'visitor_id'}},\n",
       " {'id': 48120896,\n",
       "  'client_id': 60459,\n",
       "  'user_id': 32532,\n",
       "  'category': 'table',\n",
       "  'action': 'sort',\n",
       "  'options': {'dir': 'DESC', 'name': 'visitor_id'}},\n",
       " {'id': 48121006,\n",
       "  'client_id': 60459,\n",
       "  'user_id': 32532,\n",
       "  'category': 'table',\n",
       "  'action': 'sort',\n",
       "  'options': {'dir': 'ASC', 'name': 'visitor_id'}},\n",
       " {'id': 48121008,\n",
       "  'client_id': 60459,\n",
       "  'user_id': 32532,\n",
       "  'category': 'table',\n",
       "  'action': 'sort',\n",
       "  'options': {'dir': 'DESC', 'name': 'visitor_id'}},\n",
       " {'id': 48125372,\n",
       "  'client_id': 52492,\n",
       "  'user_id': 91178,\n",
       "  'category': 'page',\n",
       "  'action': 'enter',\n",
       "  'options': {'name': 'page'}},\n",
       " {'id': 48130434,\n",
       "  'client_id': 18923,\n",
       "  'user_id': 36488,\n",
       "  'category': 'page',\n",
       "  'action': 'enter',\n",
       "  'options': {'name': 'landing'}},\n",
       " {'id': 48135712,\n",
       "  'client_id': 25301,\n",
       "  'user_id': 54229,\n",
       "  'category': 'page',\n",
       "  'action': 'enter',\n",
       "  'options': {'name': 'landing'}},\n",
       " {'id': 48136376,\n",
       "  'client_id': 18923,\n",
       "  'user_id': 36488,\n",
       "  'category': 'page',\n",
       "  'action': 'enter',\n",
       "  'options': {'name': 'landing'}},\n",
       " {'id': 48136890,\n",
       "  'client_id': 33645,\n",
       "  'user_id': 61378,\n",
       "  'category': 'page',\n",
       "  'action': 'enter',\n",
       "  'options': {'name': 'landing'}},\n",
       " {'id': 48145332,\n",
       "  'client_id': 62089,\n",
       "  'user_id': 109095,\n",
       "  'category': 'page',\n",
       "  'action': 'enter',\n",
       "  'options': {'name': 'landing'}},\n",
       " {'id': 48155244,\n",
       "  'client_id': 26705,\n",
       "  'user_id': 48880,\n",
       "  'category': 'page',\n",
       "  'action': 'enter',\n",
       "  'options': {'name': 'landing'}},\n",
       " {'id': 48160942,\n",
       "  'client_id': 1103,\n",
       "  'user_id': 109501,\n",
       "  'category': 'page',\n",
       "  'action': 'enter',\n",
       "  'options': {'name': 'page'}},\n",
       " {'id': 48166190,\n",
       "  'client_id': 62439,\n",
       "  'user_id': 110397,\n",
       "  'category': 'page',\n",
       "  'action': 'enter',\n",
       "  'options': {'name': 'landing'}},\n",
       " {'id': 48167428,\n",
       "  'client_id': 44196,\n",
       "  'user_id': 74136,\n",
       "  'category': 'page',\n",
       "  'action': 'enter',\n",
       "  'options': {'name': 'landing'}},\n",
       " {'id': 48171114,\n",
       "  'client_id': 62602,\n",
       "  'user_id': 111069,\n",
       "  'category': 'page',\n",
       "  'action': 'enter',\n",
       "  'options': {'name': 'page'}},\n",
       " {'id': 48173426,\n",
       "  'client_id': 62602,\n",
       "  'user_id': 111069,\n",
       "  'category': 'page',\n",
       "  'action': 'enter',\n",
       "  'options': {'name': 'page'}},\n",
       " {'id': 48173444,\n",
       "  'client_id': 62602,\n",
       "  'user_id': 111069,\n",
       "  'category': 'report',\n",
       "  'action': 'link_click',\n",
       "  'options': {'url': 'javascript:void(0);',\n",
       "   'name': 'deal_count',\n",
       "   'value': '1'}},\n",
       " {'id': 48173446,\n",
       "  'client_id': 62602,\n",
       "  'user_id': 111069,\n",
       "  'category': 'page',\n",
       "  'action': 'enter',\n",
       "  'options': {'name': 'page'}},\n",
       " {'id': 48173640,\n",
       "  'client_id': 62602,\n",
       "  'user_id': 111069,\n",
       "  'category': 'page',\n",
       "  'action': 'enter',\n",
       "  'options': {'name': 'page'}},\n",
       " {'id': 48173686,\n",
       "  'client_id': 62602,\n",
       "  'user_id': 111069,\n",
       "  'category': 'page',\n",
       "  'action': 'enter',\n",
       "  'options': {'name': 'page'}},\n",
       " {'id': 48173698,\n",
       "  'client_id': 62602,\n",
       "  'user_id': 111069,\n",
       "  'category': 'page',\n",
       "  'action': 'enter',\n",
       "  'options': {'name': 'page'}},\n",
       " {'id': 48174302,\n",
       "  'client_id': 62602,\n",
       "  'user_id': 111069,\n",
       "  'category': 'page',\n",
       "  'action': 'enter',\n",
       "  'options': {'name': 'page'}},\n",
       " {'id': 48174312,\n",
       "  'client_id': 62602,\n",
       "  'user_id': 111069,\n",
       "  'category': 'report',\n",
       "  'action': 'link_click',\n",
       "  'options': {'url': 'javascript:void(0);',\n",
       "   'name': 'deal_count',\n",
       "   'value': '1'}},\n",
       " {'id': 48174314,\n",
       "  'client_id': 62602,\n",
       "  'user_id': 111069,\n",
       "  'category': 'page',\n",
       "  'action': 'enter',\n",
       "  'options': {'name': 'page'}},\n",
       " {'id': 48174338,\n",
       "  'client_id': 62602,\n",
       "  'user_id': 111069,\n",
       "  'category': 'page',\n",
       "  'action': 'enter',\n",
       "  'options': {'name': 'page'}},\n",
       " {'id': 48179988,\n",
       "  'client_id': 50149,\n",
       "  'user_id': 86073,\n",
       "  'category': 'page',\n",
       "  'action': 'enter',\n",
       "  'options': {'name': 'landing'}},\n",
       " {'id': 57301281,\n",
       "  'client_id': 57009,\n",
       "  'user_id': 107244,\n",
       "  'category': 'page',\n",
       "  'action': 'enter',\n",
       "  'options': {'name': 'landing'}},\n",
       " {'id': 57326589,\n",
       "  'client_id': 57207,\n",
       "  'user_id': 107968,\n",
       "  'category': 'page',\n",
       "  'action': 'enter',\n",
       "  'options': {'name': 'landing'}},\n",
       " {'id': 57328781,\n",
       "  'client_id': 32792,\n",
       "  'user_id': 57997,\n",
       "  'category': 'page',\n",
       "  'action': 'enter',\n",
       "  'options': {'name': 'landing'}},\n",
       " {'id': 57335607,\n",
       "  'client_id': 27323,\n",
       "  'user_id': 92681,\n",
       "  'category': 'page',\n",
       "  'action': 'enter',\n",
       "  'options': {'name': 'landing'}},\n",
       " {'id': 57355249,\n",
       "  'client_id': 24500,\n",
       "  'user_id': 45371,\n",
       "  'category': 'page',\n",
       "  'action': 'enter',\n",
       "  'options': {'name': 'landing'}},\n",
       " {'id': 57357969,\n",
       "  'client_id': 24500,\n",
       "  'user_id': 45371,\n",
       "  'category': 'page',\n",
       "  'action': 'enter',\n",
       "  'options': {'name': 'page'}},\n",
       " {'id': 57364085,\n",
       "  'client_id': 58330,\n",
       "  'user_id': 122756,\n",
       "  'category': 'page',\n",
       "  'action': 'enter',\n",
       "  'options': {'name': 'landing'}},\n",
       " {'id': 57368897,\n",
       "  'client_id': 61245,\n",
       "  'user_id': 122796,\n",
       "  'category': 'page',\n",
       "  'action': 'enter',\n",
       "  'options': {'name': 'landing'}},\n",
       " {'id': 57380235,\n",
       "  'client_id': 19799,\n",
       "  'user_id': 108493,\n",
       "  'category': 'page',\n",
       "  'action': 'enter',\n",
       "  'options': {'name': 'landing'}},\n",
       " {'id': 57397813,\n",
       "  'client_id': 56544,\n",
       "  'user_id': 105404,\n",
       "  'category': 'page',\n",
       "  'action': 'enter',\n",
       "  'options': {'name': 'page'}},\n",
       " {'id': 57397881,\n",
       "  'client_id': 56544,\n",
       "  'user_id': 105404,\n",
       "  'category': 'datepicker',\n",
       "  'action': 'apply',\n",
       "  'options': {'endDate': '2019-03-31 23:59:59',\n",
       "   'startDate': '2019-03-31 00:00:00'}},\n",
       " {'id': 57397923,\n",
       "  'client_id': 56544,\n",
       "  'user_id': 105404,\n",
       "  'category': 'datepicker',\n",
       "  'action': 'apply',\n",
       "  'options': {'endDate': '2019-03-30 23:59:59',\n",
       "   'startDate': '2019-03-30 00:00:00'}},\n",
       " {'id': 57397987,\n",
       "  'client_id': 56544,\n",
       "  'user_id': 105404,\n",
       "  'category': 'datepicker',\n",
       "  'action': 'apply',\n",
       "  'options': {'endDate': '2019-03-29 23:59:59',\n",
       "   'startDate': '2019-03-29 00:00:00'}},\n",
       " {'id': 57398079,\n",
       "  'client_id': 56544,\n",
       "  'user_id': 105404,\n",
       "  'category': 'datepicker',\n",
       "  'action': 'apply',\n",
       "  'options': {'endDate': '2019-03-28 23:59:59',\n",
       "   'startDate': '2019-03-28 00:00:00'}},\n",
       " {'id': 57398119,\n",
       "  'client_id': 56544,\n",
       "  'user_id': 105404,\n",
       "  'category': 'datepicker',\n",
       "  'action': 'apply',\n",
       "  'options': {'endDate': '2019-03-27 23:59:59',\n",
       "   'startDate': '2019-03-27 00:00:00'}},\n",
       " {'id': 57398165,\n",
       "  'client_id': 56544,\n",
       "  'user_id': 105404,\n",
       "  'category': 'datepicker',\n",
       "  'action': 'apply',\n",
       "  'options': {'endDate': '2019-03-26 23:59:59',\n",
       "   'startDate': '2019-03-26 00:00:00'}},\n",
       " {'id': 57398203,\n",
       "  'client_id': 56544,\n",
       "  'user_id': 105404,\n",
       "  'category': 'datepicker',\n",
       "  'action': 'apply',\n",
       "  'options': {'endDate': '2019-03-25 23:59:59',\n",
       "   'startDate': '2019-03-25 00:00:00'}},\n",
       " {'id': 57414209,\n",
       "  'client_id': 23207,\n",
       "  'user_id': 43300,\n",
       "  'category': 'page',\n",
       "  'action': 'enter',\n",
       "  'options': {'name': 'landing'}},\n",
       " {'id': 57414633,\n",
       "  'client_id': 23207,\n",
       "  'user_id': 43300,\n",
       "  'category': 'page',\n",
       "  'action': 'enter',\n",
       "  'options': {'name': 'landing'}},\n",
       " {'id': 57414663,\n",
       "  'client_id': 23207,\n",
       "  'user_id': 85282,\n",
       "  'category': 'page',\n",
       "  'action': 'enter',\n",
       "  'options': {'name': 'landing'}},\n",
       " {'id': 57414851,\n",
       "  'client_id': 23207,\n",
       "  'user_id': 43300,\n",
       "  'category': 'page',\n",
       "  'action': 'enter',\n",
       "  'options': {'name': 'landing'}},\n",
       " {'id': 57420219,\n",
       "  'client_id': 48128,\n",
       "  'user_id': 121686,\n",
       "  'category': 'page',\n",
       "  'action': 'enter',\n",
       "  'options': {'name': 'landing'}},\n",
       " {'id': 57424709,\n",
       "  'client_id': 58113,\n",
       "  'user_id': 120952,\n",
       "  'category': 'page',\n",
       "  'action': 'enter',\n",
       "  'options': {'name': 'page'}},\n",
       " {'id': 57424757,\n",
       "  'client_id': 58113,\n",
       "  'user_id': 120952,\n",
       "  'category': 'report',\n",
       "  'action': 'change_mode',\n",
       "  'options': {'mode': 'deals'}},\n",
       " {'id': 57425399,\n",
       "  'client_id': 58113,\n",
       "  'user_id': 120952,\n",
       "  'category': 'table',\n",
       "  'action': 'sort',\n",
       "  'options': {'dir': 'ASC', 'name': 'ac'}},\n",
       " {'id': 57425421,\n",
       "  'client_id': 58113,\n",
       "  'user_id': 120952,\n",
       "  'category': 'table',\n",
       "  'action': 'sort',\n",
       "  'options': {'dir': 'DESC', 'name': 'ac'}},\n",
       " {'id': 57426007,\n",
       "  'client_id': 58113,\n",
       "  'user_id': 120952,\n",
       "  'category': 'datepicker',\n",
       "  'action': 'apply',\n",
       "  'options': {'endDate': '2019-03-24 23:59:59',\n",
       "   'startDate': '2019-03-18 00:00:00'}},\n",
       " {'id': 57426303,\n",
       "  'client_id': 58113,\n",
       "  'user_id': 120952,\n",
       "  'category': 'datepicker',\n",
       "  'action': 'apply',\n",
       "  'options': {'endDate': '2019-03-17 23:59:59',\n",
       "   'startDate': '2019-03-11 00:00:00'}},\n",
       " {'id': 57431787,\n",
       "  'client_id': 58113,\n",
       "  'user_id': 120952,\n",
       "  'category': 'page',\n",
       "  'action': 'enter',\n",
       "  'options': {'name': 'page'}},\n",
       " {'id': 57444593,\n",
       "  'client_id': 57613,\n",
       "  'user_id': 110958,\n",
       "  'category': 'page',\n",
       "  'action': 'enter',\n",
       "  'options': {'name': 'landing'}},\n",
       " {'id': 57453741,\n",
       "  'client_id': 61244,\n",
       "  'user_id': 120170,\n",
       "  'category': 'page',\n",
       "  'action': 'enter',\n",
       "  'options': {'name': 'landing'}},\n",
       " {'id': 57467371,\n",
       "  'client_id': 53666,\n",
       "  'user_id': 122224,\n",
       "  'category': 'page',\n",
       "  'action': 'enter',\n",
       "  'options': {'name': 'landing'}},\n",
       " {'id': 57473917,\n",
       "  'client_id': 53018,\n",
       "  'user_id': 92402,\n",
       "  'category': 'page',\n",
       "  'action': 'enter',\n",
       "  'options': {'name': 'landing'}},\n",
       " {'id': 57475785,\n",
       "  'client_id': 53666,\n",
       "  'user_id': 122224,\n",
       "  'category': 'page',\n",
       "  'action': 'enter',\n",
       "  'options': {'name': 'landing'}},\n",
       " {'id': 57492477,\n",
       "  'client_id': 41737,\n",
       "  'user_id': 122874,\n",
       "  'category': 'page',\n",
       "  'action': 'enter',\n",
       "  'options': {'name': 'landing'}},\n",
       " {'id': 57493427,\n",
       "  'client_id': 61078,\n",
       "  'user_id': 119662,\n",
       "  'category': 'page',\n",
       "  'action': 'enter',\n",
       "  'options': {'name': 'landing'}},\n",
       " {'id': 57515935,\n",
       "  'client_id': 20820,\n",
       "  'user_id': 116898,\n",
       "  'category': 'page',\n",
       "  'action': 'enter',\n",
       "  'options': {'name': 'landing'}},\n",
       " {'id': 57517657,\n",
       "  'client_id': 41737,\n",
       "  'user_id': 122874,\n",
       "  'category': 'page',\n",
       "  'action': 'enter',\n",
       "  'options': {'name': 'landing'}},\n",
       " {'id': 57540495,\n",
       "  'client_id': 49700,\n",
       "  'user_id': 84946,\n",
       "  'category': 'page',\n",
       "  'action': 'enter',\n",
       "  'options': {'name': 'landing'}}]"
      ]
     },
     "execution_count": 23,
     "metadata": {},
     "output_type": "execute_result"
    }
   ],
   "source": [
    "data['events_data']"
   ]
  },
  {
   "cell_type": "markdown",
   "metadata": {},
   "source": [
    "Записываю полученный в предыдущем модуле список в новую переменную data_list"
   ]
  },
  {
   "cell_type": "code",
   "execution_count": 24,
   "metadata": {},
   "outputs": [],
   "source": [
    "data_list = data['events_data']"
   ]
  },
  {
   "cell_type": "markdown",
   "metadata": {},
   "source": [
    "Считаю длину получившегося списка"
   ]
  },
  {
   "cell_type": "code",
   "execution_count": 25,
   "metadata": {},
   "outputs": [
    {
     "name": "stdout",
     "output_type": "stream",
     "text": [
      "107\n"
     ]
    }
   ],
   "source": [
    "print(len(data_list))"
   ]
  },
  {
   "cell_type": "markdown",
   "metadata": {},
   "source": [
    "Запускаю цикл по всем событиям и записываю в новый список все встречающиеся категории (ключ 'category')"
   ]
  },
  {
   "cell_type": "code",
   "execution_count": 26,
   "metadata": {},
   "outputs": [
    {
     "name": "stdout",
     "output_type": "stream",
     "text": [
      "['page', 'page', 'page', 'datepicker', 'table', 'table', 'table', 'table', 'datepicker', 'datepicker', 'datepicker', 'datepicker', 'datepicker', 'page', 'page', 'page', 'page', 'page', 'page', 'page', 'page', 'page', 'page', 'page', 'page', 'page', 'page', 'page', 'page', 'page', 'page', 'page', 'page', 'report', 'report', 'report', 'report', 'page', 'report', 'page', 'page', 'page', 'table', 'table', 'table', 'table', 'page', 'page', 'page', 'page', 'page', 'page', 'page', 'page', 'page', 'page', 'page', 'page', 'report', 'page', 'page', 'page', 'page', 'page', 'report', 'page', 'page', 'page', 'page', 'page', 'page', 'page', 'page', 'page', 'page', 'page', 'page', 'page', 'datepicker', 'datepicker', 'datepicker', 'datepicker', 'datepicker', 'datepicker', 'datepicker', 'page', 'page', 'page', 'page', 'page', 'page', 'report', 'table', 'table', 'datepicker', 'datepicker', 'page', 'page', 'page', 'page', 'page', 'page', 'page', 'page', 'page', 'page', 'page']\n"
     ]
    }
   ],
   "source": [
    "categories = []\n",
    "for item in data_list:\n",
    "    category = item['category']\n",
    "    categories.append(category)\n",
    "print (categories)"
   ]
  },
  {
   "cell_type": "markdown",
   "metadata": {},
   "source": [
    "Подсчитываю частоту встречаемости каждого из событий"
   ]
  },
  {
   "cell_type": "code",
   "execution_count": 27,
   "metadata": {},
   "outputs": [
    {
     "name": "stdout",
     "output_type": "stream",
     "text": [
      "Counter({'page': 74, 'datepicker': 15, 'table': 10, 'report': 8})\n"
     ]
    }
   ],
   "source": [
    "import collections\n",
    "c = collections.Counter()\n",
    "for category in categories:\n",
    "    c[category] += 1\n",
    "print (c)"
   ]
  },
  {
   "cell_type": "markdown",
   "metadata": {},
   "source": [
    "Определяю, какие клиенты совершают события 'table'"
   ]
  },
  {
   "cell_type": "code",
   "execution_count": 28,
   "metadata": {},
   "outputs": [
    {
     "name": "stdout",
     "output_type": "stream",
     "text": [
      "[27115, 27115, 27115, 27115, 60459, 60459, 60459, 60459, 58113, 58113]\n"
     ]
    }
   ],
   "source": [
    "table_clients = []\n",
    "for item in data_list:\n",
    "    client_id = item['client_id']\n",
    "    category = item['category']\n",
    "    if category == 'table':\n",
    "        table_clients.append(client_id)\n",
    "print (table_clients)"
   ]
  },
  {
   "cell_type": "markdown",
   "metadata": {},
   "source": [
    "Определяю, кто из клиентов чаще всего совершал действие 'table'"
   ]
  },
  {
   "cell_type": "code",
   "execution_count": 29,
   "metadata": {},
   "outputs": [
    {
     "name": "stdout",
     "output_type": "stream",
     "text": [
      "Counter({27115: 4, 60459: 4, 58113: 2})\n"
     ]
    }
   ],
   "source": [
    "c = collections.Counter()\n",
    "for table_client in table_clients:\n",
    "    c[table_client] += 1\n",
    "print (c)"
   ]
  },
  {
   "cell_type": "markdown",
   "metadata": {},
   "source": [
    "## А2.5.6"
   ]
  },
  {
   "cell_type": "markdown",
   "metadata": {},
   "source": [
    "1. Подсчитайте количество клиентов (client_id), которые совершали какие-либо действия\n",
    "2. Сколько действий совершил клиент (client_id) под номером 60459?\n",
    "3. Сколько действий с категорией (category) = page совершил клиент под номером 62602?\n",
    "4. Сколько уникальных клиентов совершили действия с категорией (category) = report?\n",
    "5. Перечислите в каждом из полей идентификаторы клиентов, которые совершили действия с категорией (category) = report (В порядке возрастания)"
   ]
  },
  {
   "cell_type": "code",
   "execution_count": 30,
   "metadata": {},
   "outputs": [
    {
     "name": "stdout",
     "output_type": "stream",
     "text": [
      "Task 1: 51\n",
      "Task 2: 12\n",
      "Task 3: 9\n",
      "Task 4: 3\n",
      "Task 5: [58113, 60459, 62602]\n"
     ]
    }
   ],
   "source": [
    "import json\n",
    "from collections import Counter\n",
    "with open(r'C:\\Users\\kozhevnikovams\\Downloads\\json\\data.json') as infile:\n",
    "    data = json.load(infile)\n",
    "    \n",
    "data_list = data['events_data']\n",
    "client_dict = Counter()\n",
    "category_page_62602 = 0\n",
    "report_set = set()\n",
    "\n",
    "for item in data_list:\n",
    "    client_dict[ item['client_id'] ]  += 1\n",
    "    if item['client_id'] == 62602 and item['category'] == 'page':\n",
    "        category_page_62602 += 1\n",
    "    if item['category'] == 'report':\n",
    "        report_set.add( item['client_id'] )\n",
    "        \n",
    "print('Task 1:', len(client_dict))\n",
    "print('Task 2:', client_dict[60459] )\n",
    "print('Task 3:', category_page_62602)\n",
    "print('Task 4:', len(report_set))\n",
    "print('Task 5:', sorted(report_set))"
   ]
  },
  {
   "cell_type": "code",
   "execution_count": null,
   "metadata": {},
   "outputs": [],
   "source": []
  }
 ],
 "metadata": {
  "kernelspec": {
   "display_name": "Python 3",
   "language": "python",
   "name": "python3"
  },
  "language_info": {
   "codemirror_mode": {
    "name": "ipython",
    "version": 3
   },
   "file_extension": ".py",
   "mimetype": "text/x-python",
   "name": "python",
   "nbconvert_exporter": "python",
   "pygments_lexer": "ipython3",
   "version": "3.7.6"
  }
 },
 "nbformat": 4,
 "nbformat_minor": 4
}
