{
 "cells": [
  {
   "cell_type": "markdown",
   "metadata": {},
   "source": [
    "# A4 Работа с датами"
   ]
  },
  {
   "cell_type": "markdown",
   "metadata": {},
   "source": [
    "## А4.2.5"
   ]
  },
  {
   "cell_type": "markdown",
   "metadata": {},
   "source": [
    "Укажите полный вариант расшифровки формата даты 2019-04-01T06:30:00"
   ]
  },
  {
   "cell_type": "markdown",
   "metadata": {},
   "source": [
    "%Y-%m-%dT%H:%M:%S"
   ]
  },
  {
   "cell_type": "markdown",
   "metadata": {},
   "source": [
    "## А4.2.6 "
   ]
  },
  {
   "cell_type": "markdown",
   "metadata": {},
   "source": [
    "Переведите дату 31 декабря 2018 года (полночь по UTC) в формат unixtime. Дайте ответ в виде целого числа:"
   ]
  },
  {
   "cell_type": "markdown",
   "metadata": {},
   "source": [
    "1546214400"
   ]
  },
  {
   "cell_type": "markdown",
   "metadata": {},
   "source": [
    "## А4.2.7"
   ]
  },
  {
   "cell_type": "markdown",
   "metadata": {},
   "source": [
    "Вам предложены значения даты и времени, записанные в различных форматах: расшифруйте их. Будьте внимательны при указании формата часа.\n",
    "\n",
    "Пример задания:\n",
    "\n",
    "2019-01-01 (1 января 2019 года)\n",
    "\n",
    "Верный ответ, который надо ввести в форму проверки:\n",
    "\n",
    "%Y-%m-%d"
   ]
  },
  {
   "cell_type": "markdown",
   "metadata": {},
   "source": [
    "### Задание 1 "
   ]
  },
  {
   "cell_type": "markdown",
   "metadata": {},
   "source": [
    "12.23.2018\n",
    "\n",
    "(23 декабря 2018 года)"
   ]
  },
  {
   "cell_type": "markdown",
   "metadata": {},
   "source": [
    "%m.%d.%Y"
   ]
  },
  {
   "cell_type": "markdown",
   "metadata": {},
   "source": [
    "### Задание 2 "
   ]
  },
  {
   "cell_type": "markdown",
   "metadata": {},
   "source": [
    "01.13.2019Z15:39:01\n",
    "\n",
    "(13 января 2019 года, 15 часов 39 минут 1 секунда)"
   ]
  },
  {
   "cell_type": "markdown",
   "metadata": {},
   "source": [
    "%m.%d.%YZ%H:%M:%S"
   ]
  },
  {
   "cell_type": "markdown",
   "metadata": {},
   "source": [
    "### Задание 3 "
   ]
  },
  {
   "cell_type": "markdown",
   "metadata": {},
   "source": [
    "23:45\n",
    "\n",
    "(23 часа 45 минут)"
   ]
  },
  {
   "cell_type": "markdown",
   "metadata": {},
   "source": [
    "%H:%M\n",
    "    "
   ]
  },
  {
   "cell_type": "markdown",
   "metadata": {},
   "source": [
    "### Задание 4 "
   ]
  },
  {
   "cell_type": "markdown",
   "metadata": {},
   "source": [
    "19.04.2019 08:00\n",
    "\n",
    "(19 апреля 2019 года, 8 утра)"
   ]
  },
  {
   "cell_type": "markdown",
   "metadata": {},
   "source": [
    "%d.%m.%Y %H:%M"
   ]
  },
  {
   "cell_type": "markdown",
   "metadata": {},
   "source": [
    "### Задание 5 "
   ]
  },
  {
   "cell_type": "markdown",
   "metadata": {},
   "source": [
    "01-04-2019, mon, 06:30\n",
    "\n",
    "(понедельник 1 апреля 2019 года, 6 часов 30 минут)"
   ]
  },
  {
   "cell_type": "markdown",
   "metadata": {},
   "source": [
    "%d-%m-%Y, %a, %H:%M\n"
   ]
  },
  {
   "cell_type": "markdown",
   "metadata": {},
   "source": [
    "### Задание 6"
   ]
  },
  {
   "cell_type": "markdown",
   "metadata": {},
   "source": [
    "01-01-2019 Sunday\n",
    "\n",
    "(воскресенье 1 января 2019 года)"
   ]
  },
  {
   "cell_type": "markdown",
   "metadata": {},
   "source": [
    "%d-%m-%Y %A"
   ]
  },
  {
   "cell_type": "markdown",
   "metadata": {},
   "source": [
    "### Задание 7 "
   ]
  },
  {
   "cell_type": "markdown",
   "metadata": {},
   "source": [
    "14.06.2019 08:00 AM\n",
    "\n",
    "(14 июня 2019 года, 8 утра) будьте внимательны к формату часа"
   ]
  },
  {
   "cell_type": "markdown",
   "metadata": {},
   "source": [
    "%d %B %Y %H:%M"
   ]
  },
  {
   "cell_type": "markdown",
   "metadata": {},
   "source": [
    "### Задание 8"
   ]
  },
  {
   "cell_type": "markdown",
   "metadata": {},
   "source": [
    "14.06.2019 08:00 AM\n",
    "\n",
    "(14 июня 2019 года, 8 утра) будьте внимательны к формату часа"
   ]
  },
  {
   "cell_type": "markdown",
   "metadata": {},
   "source": [
    "%d.%m.%Y %I:%M %p"
   ]
  },
  {
   "cell_type": "markdown",
   "metadata": {},
   "source": [
    "### Задание 9 "
   ]
  },
  {
   "cell_type": "markdown",
   "metadata": {},
   "source": [
    "10:40 AM\n",
    "\n",
    "(10 часов 40 минут утра)"
   ]
  },
  {
   "cell_type": "markdown",
   "metadata": {},
   "source": [
    "%I:%M %p"
   ]
  },
  {
   "cell_type": "markdown",
   "metadata": {},
   "source": [
    "### Задание 10"
   ]
  },
  {
   "cell_type": "markdown",
   "metadata": {},
   "source": [
    "15:23\n",
    "\n",
    "(15 часов 23 минуты)"
   ]
  },
  {
   "cell_type": "markdown",
   "metadata": {},
   "source": [
    "%H:%M"
   ]
  },
  {
   "cell_type": "markdown",
   "metadata": {},
   "source": [
    "### Задание 11 "
   ]
  },
  {
   "cell_type": "markdown",
   "metadata": {},
   "source": [
    "Mar 08, 2019\n",
    "\n",
    "(8 марта 2019 года)"
   ]
  },
  {
   "cell_type": "markdown",
   "metadata": {},
   "source": [
    "%B%-d,%Y"
   ]
  },
  {
   "cell_type": "markdown",
   "metadata": {},
   "source": [
    "### Задание 12 "
   ]
  },
  {
   "cell_type": "markdown",
   "metadata": {},
   "source": [
    "Переведите дату 1 января 2019 года (полночь по UTC) в формат unixtime"
   ]
  },
  {
   "cell_type": "markdown",
   "metadata": {},
   "source": [
    "1546300800"
   ]
  },
  {
   "cell_type": "markdown",
   "metadata": {},
   "source": [
    "### Задание 13"
   ]
  },
  {
   "cell_type": "markdown",
   "metadata": {},
   "source": [
    "Аналогично предыдущему заданию переведите 31 января 2019 года (по UTC) в формат unixtime. И посчитайте разницу в секундах между 1 и 31 января 2019 года."
   ]
  },
  {
   "cell_type": "markdown",
   "metadata": {},
   "source": [
    "2592000"
   ]
  },
  {
   "cell_type": "markdown",
   "metadata": {},
   "source": [
    "datetime для распознавания формата дат\n",
    "timedelta для прибавления к текущей дате определенного временного интервала"
   ]
  },
  {
   "cell_type": "code",
   "execution_count": 1,
   "metadata": {},
   "outputs": [],
   "source": [
    "from datetime import datetime, timedelta"
   ]
  },
  {
   "cell_type": "code",
   "execution_count": 2,
   "metadata": {},
   "outputs": [
    {
     "data": {
      "text/plain": [
       "21"
      ]
     },
     "execution_count": 2,
     "metadata": {},
     "output_type": "execute_result"
    }
   ],
   "source": [
    "date_string = '05.05.2019 21:00'\n",
    "dt = datetime.strptime(date_string, '%d.%m.%Y %H:%M')\n",
    "dt.hour"
   ]
  },
  {
   "cell_type": "markdown",
   "metadata": {},
   "source": [
    "## А 4.3.3 "
   ]
  },
  {
   "cell_type": "markdown",
   "metadata": {},
   "source": [
    "Дана дата\n",
    "\n",
    "dt = datetime(2019, 4, 1, 18, 59, 44)\n",
    "\n",
    "Выведите ее в виде строки формата %Y-%m-%d"
   ]
  },
  {
   "cell_type": "code",
   "execution_count": 3,
   "metadata": {},
   "outputs": [
    {
     "data": {
      "text/plain": [
       "'2019-04-01'"
      ]
     },
     "execution_count": 3,
     "metadata": {},
     "output_type": "execute_result"
    }
   ],
   "source": [
    "dt = datetime(2019, 4, 1, 18, 59, 44)\n",
    "dt.strftime('%Y-%m-%d')"
   ]
  },
  {
   "cell_type": "markdown",
   "metadata": {},
   "source": [
    "## А4.3.4.1"
   ]
  },
  {
   "cell_type": "markdown",
   "metadata": {},
   "source": [
    "Дана строка с датой date_string = '2019-07-07T18:59:33'\n",
    "\n",
    "Преобразуйте ее в строку с форматом %d.%m.%Y. Результат запишите в переменную date_format"
   ]
  },
  {
   "cell_type": "code",
   "execution_count": 4,
   "metadata": {},
   "outputs": [],
   "source": [
    "date_string = '2019-07-07T18:59:33'\n",
    "dt = datetime.strptime(date_string, '%Y-%m-%dT%H:%M:%S')\n",
    "date_format = dt.strftime('%d.%m.%Y')"
   ]
  },
  {
   "cell_type": "markdown",
   "metadata": {},
   "source": [
    "## А4.3.4.2"
   ]
  },
  {
   "cell_type": "markdown",
   "metadata": {},
   "source": [
    "Дан список запуска отчета по расписанию\n",
    "\n",
    "dt_list = ['2019-07-07T18:59:06', '2019-07-07T19:00:02', '2019-07-07T19:01:04']\n",
    "\n",
    "Переведите эти значения из строк в формат datetime и запишите результат в переменную datetime_list.\n",
    "\n",
    "Т. е. в переменной datetime_list должен быть список элементов вида datetime(2019, 7, 7, 18, 59, 6)"
   ]
  },
  {
   "cell_type": "code",
   "execution_count": 5,
   "metadata": {},
   "outputs": [
    {
     "data": {
      "text/plain": [
       "[datetime.datetime(2019, 7, 7, 18, 59, 6),\n",
       " datetime.datetime(2019, 7, 7, 19, 0, 2),\n",
       " datetime.datetime(2019, 7, 7, 19, 1, 4)]"
      ]
     },
     "execution_count": 5,
     "metadata": {},
     "output_type": "execute_result"
    }
   ],
   "source": [
    "dt_list = ['2019-07-07T18:59:06', '2019-07-07T19:00:02', '2019-07-07T19:01:04']\n",
    "datetime_list =[]\n",
    "for i in dt_list:\n",
    "    dt = datetime.strptime(i,'%Y-%d-%mT%H:%M:%S')\n",
    "    datetime_list.append(dt)\n",
    "datetime_list"
   ]
  },
  {
   "cell_type": "markdown",
   "metadata": {},
   "source": [
    "## А4.3.4.3"
   ]
  },
  {
   "cell_type": "markdown",
   "metadata": {},
   "source": [
    "В прошлом задании у вас получился список datetime_list с элементами типа datetime.\n",
    "\n",
    "Наш отчет запускался каждую минуту в 18:59:00, 19:00:00 и 19:01:00. Посчитайте для каждого элемента количество секунд, которое работал скрипт. Результат запишите в список report_seconds (каждый элемент, соответственно, целое число)."
   ]
  },
  {
   "cell_type": "code",
   "execution_count": 6,
   "metadata": {},
   "outputs": [
    {
     "name": "stdout",
     "output_type": "stream",
     "text": [
      "[6, 2, 4]\n"
     ]
    }
   ],
   "source": [
    "datetime_list = [\n",
    "    datetime(2019, 7, 7, 18, 59, 6),\n",
    "    datetime(2019, 7, 7, 19, 0, 2),\n",
    "    datetime(2019, 7, 7, 19, 1, 4)\n",
    "]\n",
    "time_start = [\n",
    "    datetime(2019, 7, 7, 18, 59, 0),\n",
    "    datetime(2019, 7, 7, 19, 0, 0),\n",
    "    datetime(2019, 7, 7, 19, 1, 0)\n",
    "]\n",
    "report_seconds = [(datetime_list[i] - time_start[i]).seconds \n",
    "for i in range(len(datetime_list))]\n",
    "print(report_seconds)"
   ]
  },
  {
   "cell_type": "markdown",
   "metadata": {},
   "source": [
    "## А4.3.4.4"
   ]
  },
  {
   "cell_type": "markdown",
   "metadata": {},
   "source": [
    "Посчитайте суммарное время выполнения скрипта в секундах из списка report_seconds прошлого задания.\n",
    "\n",
    "Результат запишите в переменную total_time (целое число секунд)"
   ]
  },
  {
   "cell_type": "code",
   "execution_count": 7,
   "metadata": {},
   "outputs": [
    {
     "name": "stdout",
     "output_type": "stream",
     "text": [
      "12\n"
     ]
    }
   ],
   "source": [
    "report_seconds = [6, 2, 4]\n",
    "total_time = sum(report_seconds)\n",
    "print(total_time)"
   ]
  },
  {
   "cell_type": "code",
   "execution_count": null,
   "metadata": {},
   "outputs": [],
   "source": []
  }
 ],
 "metadata": {
  "kernelspec": {
   "display_name": "Python 3",
   "language": "python",
   "name": "python3"
  },
  "language_info": {
   "codemirror_mode": {
    "name": "ipython",
    "version": 3
   },
   "file_extension": ".py",
   "mimetype": "text/x-python",
   "name": "python",
   "nbconvert_exporter": "python",
   "pygments_lexer": "ipython3",
   "version": "3.7.6"
  }
 },
 "nbformat": 4,
 "nbformat_minor": 4
}
